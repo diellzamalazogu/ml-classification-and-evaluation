{
 "cells": [
  {
   "cell_type": "markdown",
   "metadata": {},
   "source": [
    "# P5 \n",
    "## cs4821 - cs5831 - s20 "
   ]
  },
  {
   "cell_type": "markdown",
   "metadata": {},
   "source": [
    "<pre><b>Group Name:</b> P5-Black"
   ]
  },
  {
   "cell_type": "markdown",
   "metadata": {},
   "source": [
    "<b>Members:</b> Diellza Malazogu</pre>"
   ]
  },
  {
   "cell_type": "code",
   "execution_count": 15,
   "metadata": {},
   "outputs": [],
   "source": [
    "import pandas as pd\n",
    "import numpy as np\n",
    "from sklearn import datasets # import standard datasets\n",
    "from sklearn import tree     # decision tree classifier\n",
    "from sklearn import naive_bayes # naive bayes classifier \n",
    "from sklearn import svm        # svm classifier\n",
    "from sklearn import ensemble   # ensemble classifiers\n",
    "from sklearn import metrics    # performance evaluation metrics\n",
    "from sklearn import model_selection\n",
    "from sklearn import preprocessing \n",
    "from sklearn import neighbors  # knn classifier\n",
    "from sklearn.ensemble import RandomForestClassifier\n",
    "from sklearn.pipeline import make_pipeline\n",
    "from sklearn.svm import SVC\n",
    "from sklearn.neighbors import KNeighborsClassifier\n",
    "import matplotlib as mpl\n",
    "import matplotlib.pyplot as plt\n",
    "import seaborn as sb\n",
    "import warnings\n",
    "warnings.filterwarnings('ignore')\n",
    "%matplotlib inline\n",
    "from statistics import mode \n",
    "from sklearn.neighbors import KNeighborsClassifier"
   ]
  },
  {
   "cell_type": "markdown",
   "metadata": {},
   "source": [
    "# 8 "
   ]
  },
  {
   "cell_type": "code",
   "execution_count": 27,
   "metadata": {},
   "outputs": [],
   "source": [
    "#import spam data\n",
    "colNames = ['isuid','id','day of week','time of day','size.kb','box','domain','local','digits','name','cappct','special','credit','sucker','porn','chain','username','large text','spampct','category','spam']\n",
    "myDataTemp = pd.read_csv(\"spam.csv\", header = 0, names=colNames)"
   ]
  },
  {
   "cell_type": "markdown",
   "metadata": {},
   "source": [
    "# 8 a)"
   ]
  },
  {
   "cell_type": "code",
   "execution_count": 17,
   "metadata": {},
   "outputs": [],
   "source": [
    "#data for a 10 fold classification\n",
    "nFolds = 10\n",
    "kf = model_selection.KFold(n_splits=nFolds, shuffle=True, random_state=3)"
   ]
  },
  {
   "cell_type": "markdown",
   "metadata": {},
   "source": [
    "# 8 b)"
   ]
  },
  {
   "cell_type": "code",
   "execution_count": 18,
   "metadata": {
    "scrolled": true
   },
   "outputs": [
    {
     "name": "stdout",
     "output_type": "stream",
     "text": [
      "Fold 0 accuracy: 0.9771, error rate: 0.0229, AUC: 0.9762\n",
      "Fold 1 accuracy: 0.9954, error rate: 0.0046, AUC: 0.9965\n",
      "Fold 2 accuracy: 0.9631, error rate: 0.0369, AUC: 0.9561\n",
      "Fold 3 accuracy: 0.9493, error rate: 0.0507, AUC: 0.9391\n",
      "Fold 4 accuracy: 0.9724, error rate: 0.0276, AUC: 0.9697\n",
      "Fold 5 accuracy: 0.9724, error rate: 0.0276, AUC: 0.9688\n",
      "Fold 6 accuracy: 0.9677, error rate: 0.0323, AUC: 0.9616\n",
      "Fold 7 accuracy: 0.9816, error rate: 0.0184, AUC: 0.9718\n",
      "Fold 8 accuracy: 0.9724, error rate: 0.0276, AUC: 0.9589\n",
      "Fold 9 accuracy: 0.9862, error rate: 0.0138, AUC: 0.9831\n",
      "Overall accuracy: 0.9737, error rate: 0.0263, AUC: 0.9682\n"
     ]
    }
   ],
   "source": [
    "# random forest to predict the data\n",
    "rf_scores=[]\n",
    "rf_auc = []\n",
    "#convert data to numeric\n",
    "myDataNumeric = myDataTemp.apply(lambda x: pd.factorize(x)[0])\n",
    "#remove target class\n",
    "X_spam = myDataNumeric.drop([\"spam\"], axis=1)\n",
    "Y_spam = myDataNumeric[[\"spam\"]].copy()\n",
    "for tr_indx, te_indx in kf.split(X_spam, Y_spam):\n",
    "    x_train, x_test = X_spam.iloc[tr_indx], X_spam.iloc[te_indx]\n",
    "    y_train, y_test = Y_spam.iloc[tr_indx], Y_spam.iloc[te_indx]\n",
    "    data= RandomForestClassifier(n_estimators=100, bootstrap = True, max_features = 'sqrt')\n",
    "    data.fit(x_train, y_train)  \n",
    "    y_pred = data.predict(x_test)\n",
    "    rf_scores.append(metrics.accuracy_score(y_test, y_pred))\n",
    "    rf_auc.append(metrics.roc_auc_score(y_test, y_pred))\n",
    "    j = 0;\n",
    "for i in rf_scores:\n",
    "    print(\"Fold %d accuracy: %.4f, error rate: %.4f, AUC: %.4f\" % (j, rf_scores[j], 1 - rf_scores[j], rf_auc[j]))\n",
    "    j = j + 1\n",
    "print(\"Overall accuracy: %.4f, error rate: %.4f, AUC: %.4f\" % (np.mean(rf_scores), 1-np.mean(rf_scores),np.mean(rf_auc)))\n",
    "\n"
   ]
  },
  {
   "cell_type": "markdown",
   "metadata": {},
   "source": [
    "# 8 c)"
   ]
  },
  {
   "cell_type": "markdown",
   "metadata": {},
   "source": [
    "Naive Bayes"
   ]
  },
  {
   "cell_type": "code",
   "execution_count": 19,
   "metadata": {},
   "outputs": [
    {
     "name": "stdout",
     "output_type": "stream",
     "text": [
      "Naive Bayes\n",
      "Fold 0 accuracy: 87.6147, error rate: 12.3853, AUC: 87.3893\n",
      "Fold 1 accuracy: 91.2442, error rate: 8.7558, AUC: 88.6748\n",
      "Fold 2 accuracy: 93.5484, error rate: 6.4516, AUC: 91.9249\n",
      "Fold 3 accuracy: 88.9401, error rate: 11.0599, AUC: 86.8203\n",
      "Fold 4 accuracy: 88.4793, error rate: 11.5207, AUC: 84.6661\n",
      "Fold 5 accuracy: 89.8618, error rate: 10.1382, AUC: 85.7711\n",
      "Fold 6 accuracy: 92.1659, error rate: 7.8341, AUC: 91.2840\n",
      "Fold 7 accuracy: 89.4009, error rate: 10.5991, AUC: 83.9225\n",
      "Fold 8 accuracy: 88.4793, error rate: 11.5207, AUC: 85.2407\n",
      "Fold 9 accuracy: 88.9401, error rate: 11.0599, AUC: 86.2019\n",
      "Overall accuracy: 89.8675, error rate: 10.1325, AUC: 87.1896\n"
     ]
    }
   ],
   "source": [
    "#Naive Bayes to predict the data\n",
    "nb_kcv_scores = []\n",
    "nb_kcv_auc = []\n",
    "#Naive Bayes\n",
    "print(\"Naive Bayes\")\n",
    "for tr_indx, te_indx in kf.split(X_spam, Y_spam):\n",
    "    x_train, x_test = X_spam.iloc[tr_indx], X_spam.iloc[te_indx]\n",
    "    y_train, y_test = Y_spam.iloc[tr_indx], Y_spam.iloc[te_indx]\n",
    "    gnb = naive_bayes.GaussianNB()\n",
    "    y_pred_te = gnb.fit(x_train, y_train).predict(x_test)\n",
    "    nb_kcv_scores.append(metrics.accuracy_score(y_test, y_pred_te)*100)\n",
    "    nb_kcv_auc.append(metrics.roc_auc_score(y_test, y_pred_te)*100)\n",
    "j = 0;\n",
    "for i in nb_kcv_scores:\n",
    "    print(\"Fold %d accuracy: %.4f, error rate: %.4f, AUC: %.4f\" % (j, nb_kcv_scores[j], 100 - nb_kcv_scores[j], nb_kcv_auc[j]))\n",
    "    j = j + 1\n",
    "print(\"Overall accuracy: %.4f, error rate: %.4f, AUC: %.4f\" % (np.mean(nb_kcv_scores), 100-np.mean(nb_kcv_scores),np.mean(nb_kcv_auc)))"
   ]
  },
  {
   "cell_type": "markdown",
   "metadata": {},
   "source": [
    "KNN"
   ]
  },
  {
   "cell_type": "code",
   "execution_count": 20,
   "metadata": {},
   "outputs": [
    {
     "name": "stdout",
     "output_type": "stream",
     "text": [
      "kNN with a k of 9\n",
      "Fold 0 accuracy: 74.7706, error rate: 25.2294, AUC: 69.3566\n",
      "Fold 1 accuracy: 78.8018, error rate: 21.1982, AUC: 72.8834\n",
      "Fold 2 accuracy: 79.7235, error rate: 20.2765, AUC: 73.1831\n",
      "Fold 3 accuracy: 77.4194, error rate: 22.5806, AUC: 72.4954\n",
      "Fold 4 accuracy: 79.2627, error rate: 20.7373, AUC: 72.0497\n",
      "Fold 5 accuracy: 78.3410, error rate: 21.6590, AUC: 70.5077\n",
      "Fold 6 accuracy: 74.1935, error rate: 25.8065, AUC: 68.8839\n",
      "Fold 7 accuracy: 80.6452, error rate: 19.3548, AUC: 71.1783\n",
      "Fold 8 accuracy: 76.0369, error rate: 23.9631, AUC: 70.8000\n",
      "Fold 9 accuracy: 78.8018, error rate: 21.1982, AUC: 72.4789\n",
      "Overall accuracy: 77.7996, error rate: 22.2004, AUC: 71.3817\n"
     ]
    }
   ],
   "source": [
    "#knn to predict the data\n",
    "knn_kcv_scores = []\n",
    "knn_kcv_auc = []\n",
    "#kNN with a k of 9\n",
    "print(\"kNN with a k of 9\")\n",
    "for tr_indx, te_indx in kf.split(X_spam, Y_spam):\n",
    "    x_train, x_test = X_spam.iloc[tr_indx], X_spam.iloc[te_indx]\n",
    "    y_train, y_test = Y_spam.iloc[tr_indx], Y_spam.iloc[te_indx]\n",
    "    knn = neighbors.KNeighborsClassifier(n_neighbors=9)\n",
    "    knn.fit(x_train, y_train)\n",
    "    y_pred_te = knn.predict(x_test)\n",
    "    knn_kcv_scores.append(metrics.accuracy_score(y_test, y_pred_te)*100)\n",
    "    knn_kcv_auc.append(metrics.roc_auc_score(y_test, y_pred_te)*100)\n",
    "j = 0;\n",
    "for i in knn_kcv_scores:\n",
    "    print(\"Fold %d accuracy: %.4f, error rate: %.4f, AUC: %.4f\" % (j, knn_kcv_scores[j], 100 - knn_kcv_scores[j], knn_kcv_auc[j]))\n",
    "    j = j + 1\n",
    "print(\"Overall accuracy: %.4f, error rate: %.4f, AUC: %.4f\" % (np.mean(knn_kcv_scores), 100-np.mean(knn_kcv_scores),np.mean(knn_kcv_auc)))"
   ]
  },
  {
   "cell_type": "markdown",
   "metadata": {},
   "source": [
    "SVM"
   ]
  },
  {
   "cell_type": "code",
   "execution_count": 21,
   "metadata": {},
   "outputs": [
    {
     "name": "stdout",
     "output_type": "stream",
     "text": [
      "SVM with cost 0.1 and linear kernel\n",
      "Fold 0 accuracy: 93.5780, error rate: 6.4220, AUC: 94.4709\n",
      "Fold 1 accuracy: 97.6959, error rate: 2.3041, AUC: 97.5885\n",
      "Fold 2 accuracy: 94.9309, error rate: 5.0691, AUC: 94.5540\n",
      "Fold 3 accuracy: 90.7834, error rate: 9.2166, AUC: 90.1004\n",
      "Fold 4 accuracy: 89.8618, error rate: 10.1382, AUC: 90.2562\n",
      "Fold 5 accuracy: 94.0092, error rate: 5.9908, AUC: 92.7203\n",
      "Fold 6 accuracy: 92.6267, error rate: 7.3733, AUC: 92.7117\n",
      "Fold 7 accuracy: 94.0092, error rate: 5.9908, AUC: 93.8004\n",
      "Fold 8 accuracy: 94.9309, error rate: 5.0691, AUC: 94.1543\n",
      "Fold 9 accuracy: 96.3134, error rate: 3.6866, AUC: 96.2394\n",
      "Overall accuracy: 93.8739, error rate: 6.1261, AUC: 93.6596\n"
     ]
    }
   ],
   "source": [
    "# SVM classifier to predict spam\n",
    "from sklearn.svm import SVC\n",
    "svm_kcv_scores = []\n",
    "svm_kcv_auc = []\n",
    "#SVM with cost 0.1 and linear kernel\n",
    "print(\"SVM with cost 0.1 and linear kernel\")\n",
    "for tr_indx, te_indx in kf.split(X_spam, Y_spam):\n",
    "    x_train, x_test = X_spam.iloc[tr_indx], X_spam.iloc[te_indx]\n",
    "    y_train, y_test = Y_spam.iloc[tr_indx], Y_spam.iloc[te_indx]\n",
    "    svmclf = svm.SVC(kernel='linear', C=0.1)\n",
    "    svmclf.fit(x_train, y_train)\n",
    "    y_pred_te = svmclf.predict(x_test)\n",
    "    svm_kcv_scores.append(metrics.accuracy_score(y_test, y_pred_te)*100)\n",
    "    svm_kcv_auc.append(metrics.roc_auc_score(y_test, y_pred_te)*100)\n",
    "j = 0;\n",
    "for i in svm_kcv_scores:\n",
    "    print(\"Fold %d accuracy: %.4f, error rate: %.4f, AUC: %.4f\" % (j, svm_kcv_scores[j], 100 - svm_kcv_scores[j], svm_kcv_auc[j]))\n",
    "    j = j + 1\n",
    "print(\"Overall accuracy: %.4f, error rate: %.4f, AUC: %.4f\" % (np.mean(svm_kcv_scores), 100-np.mean(svm_kcv_scores),np.mean(svm_kcv_auc)))"
   ]
  },
  {
   "cell_type": "markdown",
   "metadata": {},
   "source": [
    "# 8d)"
   ]
  },
  {
   "cell_type": "code",
   "execution_count": 22,
   "metadata": {},
   "outputs": [
    {
     "name": "stdout",
     "output_type": "stream",
     "text": [
      "Fold 0 accuracy: 90.3670, error rate: 9.6330, AUC: 90.7552\n",
      "Fold 1 accuracy: 93.5484, error rate: 6.4516, AUC: 91.4241\n",
      "Fold 2 accuracy: 93.5484, error rate: 6.4516, AUC: 91.9249\n",
      "Fold 3 accuracy: 89.8618, error rate: 10.1382, AUC: 88.0703\n",
      "Fold 4 accuracy: 89.8618, error rate: 10.1382, AUC: 87.9270\n",
      "Fold 5 accuracy: 91.7051, error rate: 8.2949, AUC: 88.5489\n",
      "Fold 6 accuracy: 92.6267, error rate: 7.3733, AUC: 91.9882\n",
      "Fold 7 accuracy: 92.1659, error rate: 7.8341, AUC: 87.8928\n",
      "Fold 8 accuracy: 93.0876, error rate: 6.9124, AUC: 90.7392\n",
      "Fold 9 accuracy: 92.6267, error rate: 7.3733, AUC: 91.2207\n",
      "Overall accuracy: 91.9399, error rate: 8.0601, AUC: 90.0491\n"
     ]
    }
   ],
   "source": [
    "nFolds = 10\n",
    "kf = model_selection.KFold(n_splits=nFolds, shuffle=True, random_state=3)\n",
    "maj_accu = []\n",
    "maj_err=[]\n",
    "maj_auc=[]\n",
    "for tr_indx, te_indx in kf.split(X_spam, Y_spam):\n",
    "    x_train, x_test = X_spam.iloc[tr_indx], X_spam.iloc[te_indx]\n",
    "    y_train, y_test = Y_spam.iloc[tr_indx], Y_spam.iloc[te_indx]\n",
    "    svm = SVC(kernel='linear', random_state=0, gamma='auto', C=0.1)\n",
    "    svm.fit(x_train, y_train)\n",
    "    knn = KNeighborsClassifier(n_neighbors=9)\n",
    "    knn.fit(x_train, y_train)\n",
    "    gnb = naive_bayes.GaussianNB()\n",
    "    gnb_pred = gnb.fit(x_train, y_train).predict(x_test)\n",
    "    svm_pred = svm.predict(x_test)\n",
    "    knn_pred = knn.predict(x_test)\n",
    "    maj_pred = np.array([])\n",
    "    for i in range(0,len(x_test)):\n",
    "        maj_pred = np.append(maj_pred,mode([gnb_pred[i],svm_pred[i],knn_pred[i]]))\n",
    "    maj_accu.append(metrics.accuracy_score(y_test, maj_pred)*100)\n",
    "    maj_err.append(100 - metrics.accuracy_score(y_test, maj_pred)*100)\n",
    "    maj_auc.append(metrics.roc_auc_score(y_test, maj_pred)*100)\n",
    "j=0    \n",
    "for i in maj_accu:\n",
    "    print(\"Fold %d accuracy: %.4f, error rate: %.4f, AUC: %.4f\" % (j, maj_accu[j], 100 - maj_accu[j], maj_auc[j]))\n",
    "    j = j + 1\n",
    "print(\"Overall accuracy: %.4f, error rate: %.4f, AUC: %.4f\" % (np.mean(maj_accu), 100-np.mean(maj_accu),np.mean(maj_auc)))    "
   ]
  },
  {
   "cell_type": "code",
   "execution_count": 28,
   "metadata": {},
   "outputs": [],
   "source": [
    "#constructing the data frame with a column of predictions for each model : Naive Bayes, SVM, knn\n",
    "gnb=gnb_pred.tolist()\n",
    "svm=svm_pred.tolist()\n",
    "knn=knn_pred.tolist()\n",
    "overall=maj_pred.tolist()\n",
    "pred1 = list(zip(gnb,svm,knn,overall))\n",
    "df=  pd.DataFrame(pred1, columns=['gnb_pred','svm_pred','knn_pred','overall_pred'])\n"
   ]
  },
  {
   "cell_type": "code",
   "execution_count": 24,
   "metadata": {
    "scrolled": true
   },
   "outputs": [
    {
     "data": {
      "text/html": [
       "<div>\n",
       "<style scoped>\n",
       "    .dataframe tbody tr th:only-of-type {\n",
       "        vertical-align: middle;\n",
       "    }\n",
       "\n",
       "    .dataframe tbody tr th {\n",
       "        vertical-align: top;\n",
       "    }\n",
       "\n",
       "    .dataframe thead th {\n",
       "        text-align: right;\n",
       "    }\n",
       "</style>\n",
       "<table border=\"1\" class=\"dataframe\">\n",
       "  <thead>\n",
       "    <tr style=\"text-align: right;\">\n",
       "      <th></th>\n",
       "      <th>Ensemble_Predictor</th>\n",
       "      <th>Accuracy</th>\n",
       "      <th>Error</th>\n",
       "      <th>AUC_sore</th>\n",
       "    </tr>\n",
       "  </thead>\n",
       "  <tbody>\n",
       "    <tr>\n",
       "      <th>0</th>\n",
       "      <td>fd1</td>\n",
       "      <td>90.366972</td>\n",
       "      <td>9.633028</td>\n",
       "      <td>90.755245</td>\n",
       "    </tr>\n",
       "    <tr>\n",
       "      <th>1</th>\n",
       "      <td>fd2</td>\n",
       "      <td>93.548387</td>\n",
       "      <td>6.451613</td>\n",
       "      <td>91.424087</td>\n",
       "    </tr>\n",
       "    <tr>\n",
       "      <th>2</th>\n",
       "      <td>fd3</td>\n",
       "      <td>93.548387</td>\n",
       "      <td>6.451613</td>\n",
       "      <td>91.924883</td>\n",
       "    </tr>\n",
       "    <tr>\n",
       "      <th>3</th>\n",
       "      <td>fd4</td>\n",
       "      <td>89.861751</td>\n",
       "      <td>10.138249</td>\n",
       "      <td>88.070255</td>\n",
       "    </tr>\n",
       "    <tr>\n",
       "      <th>4</th>\n",
       "      <td>fd5</td>\n",
       "      <td>89.861751</td>\n",
       "      <td>10.138249</td>\n",
       "      <td>87.927019</td>\n",
       "    </tr>\n",
       "    <tr>\n",
       "      <th>5</th>\n",
       "      <td>fd6</td>\n",
       "      <td>91.705069</td>\n",
       "      <td>8.294931</td>\n",
       "      <td>88.548851</td>\n",
       "    </tr>\n",
       "    <tr>\n",
       "      <th>6</th>\n",
       "      <td>fd7</td>\n",
       "      <td>92.626728</td>\n",
       "      <td>7.373272</td>\n",
       "      <td>91.988231</td>\n",
       "    </tr>\n",
       "    <tr>\n",
       "      <th>7</th>\n",
       "      <td>fd8</td>\n",
       "      <td>92.165899</td>\n",
       "      <td>7.834101</td>\n",
       "      <td>87.892781</td>\n",
       "    </tr>\n",
       "    <tr>\n",
       "      <th>8</th>\n",
       "      <td>fd9</td>\n",
       "      <td>93.087558</td>\n",
       "      <td>6.912442</td>\n",
       "      <td>90.739155</td>\n",
       "    </tr>\n",
       "    <tr>\n",
       "      <th>9</th>\n",
       "      <td>fd0</td>\n",
       "      <td>92.626728</td>\n",
       "      <td>7.373272</td>\n",
       "      <td>91.220657</td>\n",
       "    </tr>\n",
       "    <tr>\n",
       "      <th>10</th>\n",
       "      <td>Mean</td>\n",
       "      <td>91.939923</td>\n",
       "      <td>8.060077</td>\n",
       "      <td>90.049116</td>\n",
       "    </tr>\n",
       "  </tbody>\n",
       "</table>\n",
       "</div>"
      ],
      "text/plain": [
       "   Ensemble_Predictor   Accuracy      Error   AUC_sore\n",
       "0                 fd1  90.366972   9.633028  90.755245\n",
       "1                 fd2  93.548387   6.451613  91.424087\n",
       "2                 fd3  93.548387   6.451613  91.924883\n",
       "3                 fd4  89.861751  10.138249  88.070255\n",
       "4                 fd5  89.861751  10.138249  87.927019\n",
       "5                 fd6  91.705069   8.294931  88.548851\n",
       "6                 fd7  92.626728   7.373272  91.988231\n",
       "7                 fd8  92.165899   7.834101  87.892781\n",
       "8                 fd9  93.087558   6.912442  90.739155\n",
       "9                 fd0  92.626728   7.373272  91.220657\n",
       "10               Mean  91.939923   8.060077  90.049116"
      ]
     },
     "execution_count": 24,
     "metadata": {},
     "output_type": "execute_result"
    }
   ],
   "source": [
    "from statistics import *\n",
    "folds=['fd1','fd2','fd3','fd4','fd5','fd6','fd7','fd8','fd9','fd0']\n",
    "data = pd.DataFrame(list(zip(folds,maj_accu,maj_err,maj_auc)), columns =['Ensemble_Predictor','Accuracy','Error','AUC_sore']) \n",
    "df3 = data.append(pd.Series(['Mean',mean(maj_accu),mean(maj_err),mean(maj_auc)], index=data.columns ), ignore_index=True)\n",
    "df3"
   ]
  },
  {
   "cell_type": "markdown",
   "metadata": {},
   "source": [
    "# 8e)"
   ]
  },
  {
   "cell_type": "markdown",
   "metadata": {},
   "source": [
    "Boosting to fit an ensemble of 50 trees to the training data"
   ]
  },
  {
   "cell_type": "code",
   "execution_count": 25,
   "metadata": {},
   "outputs": [
    {
     "name": "stdout",
     "output_type": "stream",
     "text": [
      "Fold 0 accuracy: 95.8716, error rate: 4.1284, AUC: 95.5851\n",
      "Fold 1 accuracy: 99.0783, error rate: 0.9217, AUC: 99.3056\n",
      "Fold 2 accuracy: 96.3134, error rate: 3.6866, AUC: 95.9249\n",
      "Fold 3 accuracy: 94.0092, error rate: 5.9908, AUC: 92.9151\n",
      "Fold 4 accuracy: 94.4700, error rate: 5.5300, AUC: 92.7795\n",
      "Fold 5 accuracy: 95.8525, error rate: 4.1475, AUC: 95.1485\n",
      "Fold 6 accuracy: 95.8525, error rate: 4.1475, AUC: 95.8325\n",
      "Fold 7 accuracy: 98.1567, error rate: 1.8433, AUC: 97.1815\n",
      "Fold 8 accuracy: 94.4700, error rate: 5.5300, AUC: 93.1317\n",
      "Fold 9 accuracy: 98.1567, error rate: 1.8433, AUC: 97.9624\n",
      "Overall accuracy: 96.2231, error rate: 3.7769, AUC: 95.5767\n"
     ]
    }
   ],
   "source": [
    "# using Adaboost for boosting\n",
    "Ada_scores = []\n",
    "Ada_auc = []\n",
    "for tr_indx, te_indx in kf.split(X_spam, Y_spam):\n",
    "    x_train, x_test = X_spam.iloc[tr_indx], X_spam.iloc[te_indx]\n",
    "    y_train, y_test = Y_spam.iloc[tr_indx], Y_spam.iloc[te_indx]\n",
    "    clf = ensemble.AdaBoostClassifier(n_estimators=50, random_state=0)\n",
    "    clf.fit(x_train, y_train)\n",
    "    y_pred = clf.predict(x_test)\n",
    "    Ada_scores.append(metrics.accuracy_score(y_test, y_pred)*100)\n",
    "    Ada_auc.append(metrics.roc_auc_score(y_test, y_pred)*100)\n",
    "j = 0;\n",
    "for i in Ada_scores:\n",
    "    print(\"Fold %d accuracy: %.4f, error rate: %.4f, AUC: %.4f\" % (j, Ada_scores[j], 100 - Ada_scores[j], Ada_auc[j]))\n",
    "    j = j + 1\n",
    "print(\"Overall accuracy: %.4f, error rate: %.4f, AUC: %.4f\" % (np.mean(Ada_scores), 100-np.mean(Ada_scores),np.mean(Ada_auc)))"
   ]
  },
  {
   "cell_type": "markdown",
   "metadata": {},
   "source": [
    "Boosting to fit an ensemble of 100 trees in the training data"
   ]
  },
  {
   "cell_type": "code",
   "execution_count": 26,
   "metadata": {},
   "outputs": [
    {
     "name": "stdout",
     "output_type": "stream",
     "text": [
      "Fold 0 accuracy: 96.3303, error rate: 3.6697, AUC: 95.9347\n",
      "Fold 1 accuracy: 99.0783, error rate: 0.9217, AUC: 98.9678\n",
      "Fold 2 accuracy: 96.3134, error rate: 3.6866, AUC: 95.6103\n",
      "Fold 3 accuracy: 95.3917, error rate: 4.6083, AUC: 94.5301\n",
      "Fold 4 accuracy: 94.9309, error rate: 5.0691, AUC: 94.2547\n",
      "Fold 5 accuracy: 96.3134, error rate: 3.6866, AUC: 95.8429\n",
      "Fold 6 accuracy: 96.7742, error rate: 3.2258, AUC: 96.5175\n",
      "Fold 7 accuracy: 98.1567, error rate: 1.8433, AUC: 97.1815\n",
      "Fold 8 accuracy: 94.9309, error rate: 5.0691, AUC: 93.8166\n",
      "Fold 9 accuracy: 96.7742, error rate: 3.2258, AUC: 96.9061\n",
      "Overall accuracy: 96.4994, error rate: 3.5006, AUC: 95.9562\n"
     ]
    }
   ],
   "source": [
    "Ada_scores = []\n",
    "Ada_auc = []\n",
    "for tr_indx, te_indx in kf.split(X_spam, Y_spam):\n",
    "    x_train, x_test = X_spam.iloc[tr_indx], X_spam.iloc[te_indx]\n",
    "    y_train, y_test = Y_spam.iloc[tr_indx], Y_spam.iloc[te_indx]\n",
    "    clf = ensemble.AdaBoostClassifier(n_estimators=100, random_state=0)\n",
    "    clf.fit(x_train, y_train)\n",
    "    y_pred = clf.predict(x_test)\n",
    "    Ada_scores.append(metrics.accuracy_score(y_test, y_pred)*100)\n",
    "    Ada_auc.append(metrics.roc_auc_score(y_test, y_pred)*100)\n",
    "j = 0;\n",
    "for i in Ada_scores:\n",
    "    print(\"Fold %d accuracy: %.4f, error rate: %.4f, AUC: %.4f\" % (j, Ada_scores[j], 100 - Ada_scores[j], Ada_auc[j]))\n",
    "    j = j + 1\n",
    "print(\"Overall accuracy: %.4f, error rate: %.4f, AUC: %.4f\" % (np.mean(Ada_scores), 100-np.mean(Ada_scores),np.mean(Ada_auc)))"
   ]
  },
  {
   "cell_type": "code",
   "execution_count": null,
   "metadata": {},
   "outputs": [],
   "source": []
  },
  {
   "cell_type": "code",
   "execution_count": null,
   "metadata": {},
   "outputs": [],
   "source": []
  }
 ],
 "metadata": {
  "kernelspec": {
   "display_name": "Python 3",
   "language": "python",
   "name": "python3"
  },
  "language_info": {
   "codemirror_mode": {
    "name": "ipython",
    "version": 3
   },
   "file_extension": ".py",
   "mimetype": "text/x-python",
   "name": "python",
   "nbconvert_exporter": "python",
   "pygments_lexer": "ipython3",
   "version": "3.7.3"
  }
 },
 "nbformat": 4,
 "nbformat_minor": 2
}
